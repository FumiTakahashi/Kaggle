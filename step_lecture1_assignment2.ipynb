{
  "nbformat": 4,
  "nbformat_minor": 0,
  "metadata": {
    "colab": {
      "name": "step_lecture1_assignment2.ipynb",
      "provenance": [],
      "mount_file_id": "1h9eHMSKvsh7KAN1ds4u8OD9bAht8QRc-",
      "authorship_tag": "ABX9TyPWzEfzW1r7TQwf2LN+4BSQ",
      "include_colab_link": true
    },
    "kernelspec": {
      "name": "python3",
      "display_name": "Python 3"
    },
    "accelerator": "GPU"
  },
  "cells": [
    {
      "cell_type": "markdown",
      "metadata": {
        "id": "view-in-github",
        "colab_type": "text"
      },
      "source": [
        "<a href=\"https://colab.research.google.com/github/FumiTakahashi/Kaggle/blob/master/step_lecture1_assignment2.ipynb\" target=\"_parent\"><img src=\"https://colab.research.google.com/assets/colab-badge.svg\" alt=\"Open In Colab\"/></a>"
      ]
    },
    {
      "cell_type": "code",
      "metadata": {
        "id": "aSsgVFCU8YqY",
        "colab_type": "code",
        "outputId": "a1764650-854f-4063-ad09-b65213feec0e",
        "colab": {
          "base_uri": "https://localhost:8080/",
          "height": 33
        }
      },
      "source": [
        "%cd 'drive/My Drive/STEP/files/lecture1'"
      ],
      "execution_count": 1,
      "outputs": [
        {
          "output_type": "stream",
          "text": [
            "/content/drive/My Drive/STEP/files/lecture1\n"
          ],
          "name": "stdout"
        }
      ]
    },
    {
      "cell_type": "markdown",
      "metadata": {
        "id": "_p4VvzuaPnji",
        "colab_type": "text"
      },
      "source": [
        "## Assignment 2\n",
        "1. Partial Anagram without decoding.\n",
        "2. Partial Anagram with decoding.\n",
        "3. Game version."
      ]
    },
    {
      "cell_type": "code",
      "metadata": {
        "id": "jwQIOO4RhzUj",
        "colab_type": "code",
        "outputId": "b6610847-7746-4ef3-f790-f880f30d75ff",
        "colab": {
          "base_uri": "https://localhost:8080/",
          "height": 115
        }
      },
      "source": [
        "### 1. Partial Anagram without decoding\n",
        "\n",
        "class PartialAnagram:\n",
        "\n",
        "  def __init__(self, dic):\n",
        "      self.dic = dic\n",
        "      self.dic_sorted =self.sort_dictionary(self.dic)  # sort the dictionary at instantiation\n",
        "    \n",
        "\n",
        "\n",
        "#  for sorting the dictionary\n",
        "  def sort_dictionary(self, dic):\n",
        "    dic_semi_sorted = []\n",
        "\n",
        "    for item in self.dic:\n",
        "      dic_semi_sorted.append(\"\".join(sorted(item)))\n",
        "    dic_sorted = list(zip(dic_semi_sorted, self.dic))\n",
        "    return sorted(dic_sorted, key=lambda x: (x[0]))\n",
        "\n",
        "#  binary search that returns the orignal string\n",
        "  def binary_search_sorted(self, target_sorted, target_original, lis_sorted, l=0, r=None):\n",
        "    \n",
        "    if r is None:\n",
        "      r = len(lis_sorted)-1\n",
        "    if l>r:\n",
        "      return False\n",
        "\n",
        "    mid = (r+l)//2\n",
        "    if target_sorted == lis_sorted[mid][0] and target_original != lis_sorted[mid][1]:  # makes sure if the original patterns are not same. \n",
        "      return lis_sorted[mid][1]\n",
        "    if target_sorted < lis_sorted[mid][0]:\n",
        "      return self.binary_search_sorted(target_sorted, target_original, lis_sorted, l=l, r=mid-1)\n",
        "    else:\n",
        "      return self.binary_search_sorted(target_sorted, target_original, lis_sorted, l=mid+1, r=r)\n",
        "\n",
        "\n",
        "# straight foward method to get the longest partial anagram.  \n",
        "  def str_get_anagram(self, random_word):\n",
        "    candidates = [\"\"]\n",
        "    longest = \"\"\n",
        "\n",
        "    for c in random_word:\n",
        "      current_candidates = candidates.copy()\n",
        "      for preve_candidate in current_candidates:\n",
        "        new_candidate_with_char = preve_candidate + c\n",
        "        anagram_candidate = self.binary_search_sorted(\"\".join(sorted(new_candidate_with_char)), new_candidate_with_char, self.dic_sorted)\n",
        "        if anagram_candidate and len(longest) < len(anagram_candidate):\n",
        "          longest = anagram_candidate\n",
        "        candidates.append(new_candidate_with_char)\n",
        "    return longest\n",
        "\n",
        "\n",
        "# recursive method to get partial anagram. \n",
        "  def rec_search_anagram(self, prev_candidate, char_index, random_word):\n",
        "    if char_index >= len(random_word):\n",
        "      return \"\"\n",
        "    \n",
        "    anagram_candidate = self.binary_search_sorted(\"\".join(sorted(prev_candidate)), prev_candidate, self.dic_sorted)\n",
        "\n",
        "    if anagram_candidate:\n",
        "      return anagram_candidate\n",
        "    \n",
        "    # adding a new character\n",
        "    anagram_candidate_with_char = self.rec_search_anagram(prev_candidate + random_word[char_index], char_index + 1, random_word)\n",
        "    if anagram_candidate_with_char:\n",
        "      return anagram_candidate_with_char\n",
        "    \n",
        "    # without adding a new character\n",
        "    anagram_candidate_without_char = self.rec_search_anagram(prev_candidate, char_index + 1, random_word)\n",
        "    if anagram_candidate_without_char:\n",
        "      return anagram_candidate_without_char\n",
        "  \n",
        "  def rec_get_anagram(self, random_word):\n",
        "    return self.rec_search_anagram(\"\", 0, random_word)\n",
        "\n",
        "\n",
        "\n",
        "### Partial Anagram with decoding.\n",
        "\n",
        "class DecodedPartialAnagram:\n",
        "\n",
        "\n",
        "  def __init__(self, dic):\n",
        "    self.dic = dic\n",
        "    self.decoded_dic = self.decode_dictionary(self.dic)   # decode dictionary at instantiation\n",
        "    \n",
        "#  decodes a given string\n",
        "  def decode_string(self, string):\n",
        "    decoded_string = dict.fromkeys(sorted(string), 0)\n",
        "    for c in string:\n",
        "      decoded_string[c] += 1\n",
        "    return decoded_string\n",
        "\n",
        "#  decodes all items in dictionary\n",
        "## create dictionary where {key = original string, value = decoded string}\n",
        "  def decode_dictionary(self, dic):\n",
        "    decoded_dic = {}\n",
        "    for item in self.dic:\n",
        "      decoded_dic[item] = self.decode_string(item)\n",
        "    return decoded_dic\n",
        "\n",
        "#  looks for the longest anagram in the dictionary\n",
        "  def get_anagram(self, random_word):\n",
        "    decoded_random_word = self.decode_string(random_word) # decodes target word\n",
        "    current_max = 0\n",
        "    anagram_candiate = None\n",
        "\n",
        "    for k in self.decoded_dic:\n",
        "      for c in self.decoded_dic[k]:\n",
        "        if c not in decoded_random_word: # if dictionary word contains character not in target, break\n",
        "          break\n",
        "        elif decoded_random_word[c] < self.decoded_dic[k][c]: # if dictionary word contains extra characters, break\n",
        "          break\n",
        "        elif c == list(self.decoded_dic[k].keys())[-1] and random_word != k: # if end character of the dictinary word and word is not the target word\n",
        "          item_length = sum(self.decoded_dic[k].values())\n",
        "          if current_max < item_length:  # if the length of the found anagram is grater than the current_max, replace current_max\n",
        "            current_max = item_length\n",
        "            anagram_candiate = k\n",
        "    \n",
        "    return anagram_candiate\n",
        "\n",
        "\n",
        "\n",
        "  \n",
        "  \n",
        "if __name__ == '__main__':\n",
        "  import time\n",
        "\n",
        "  file = open(\"dictionary.words.txt\", \"r\")\n",
        "  dic = list(file.read().split('\\n'))\n",
        "\n",
        "  partAna = PartialAnagram(dic)\n",
        "  partAnaDeco = DecodedPartialAnagram(dic)\n",
        "\n",
        "  start_time = time.time()\n",
        "  print(partAna.str_get_anagram('undefinability'))\n",
        "  print(\"Straight foward partial anagram --- %s ms\" % ((time.time() - start_time)*100))\n",
        "\n",
        "\n",
        "  start_time = time.time()\n",
        "  print(partAna.rec_get_anagram('undefinability'))\n",
        "  print(\"Recursive partial anagram       --- %s ms\" % ((time.time() - start_time)*100))\n",
        "\n",
        "\n",
        "  start_time = time.time()\n",
        "  print(partAnaDeco.get_anagram('undefinability'))\n",
        "  print(\"Decoded partial anagram       --- %s ms\" % ((time.time() - start_time)*100))\n"
      ],
      "execution_count": 4,
      "outputs": [
        {
          "output_type": "stream",
          "text": [
            "indefinably\n",
            "Straight foward partial anagram --- 12.154698371887207 ms\n",
            "dun\n",
            "Recursive partial anagram       --- 0.007605552673339844 ms\n",
            "indefinably\n",
            "Decoded partial anagram       --- 6.204581260681152 ms\n"
          ],
          "name": "stdout"
        }
      ]
    },
    {
      "cell_type": "code",
      "metadata": {
        "id": "TkrTIJpAPGsF",
        "colab_type": "code",
        "colab": {}
      },
      "source": [
        "# !apt-get update \n",
        "# !apt install chromium-chromedriver"
      ],
      "execution_count": 0,
      "outputs": []
    },
    {
      "cell_type": "markdown",
      "metadata": {
        "id": "1dUamUA2MMT2",
        "colab_type": "text"
      },
      "source": [
        "## Game version"
      ]
    },
    {
      "cell_type": "markdown",
      "metadata": {
        "id": "rsF8oj9Aud0f",
        "colab_type": "text"
      },
      "source": [
        "- Select the best anagram based on the score. \n",
        "- Replaces Qu with Q in dictionary."
      ]
    },
    {
      "cell_type": "code",
      "metadata": {
        "id": "XjjKK6LOyfOF",
        "colab_type": "code",
        "outputId": "1195c8f5-30ed-48d5-c07d-fc902253e391",
        "colab": {
          "base_uri": "https://localhost:8080/",
          "height": 1000
        }
      },
      "source": [
        "!pip install selenium\n",
        "!apt-get update \n",
        "!apt install chromium-chromedriver"
      ],
      "execution_count": 6,
      "outputs": [
        {
          "output_type": "stream",
          "text": [
            "Collecting selenium\n",
            "\u001b[?25l  Downloading https://files.pythonhosted.org/packages/80/d6/4294f0b4bce4de0abf13e17190289f9d0613b0a44e5dd6a7f5ca98459853/selenium-3.141.0-py2.py3-none-any.whl (904kB)\n",
            "\u001b[K     |████████████████████████████████| 911kB 7.5MB/s \n",
            "\u001b[?25hRequirement already satisfied: urllib3 in /usr/local/lib/python3.6/dist-packages (from selenium) (1.24.3)\n",
            "Installing collected packages: selenium\n",
            "Successfully installed selenium-3.141.0\n",
            "Hit:1 http://ppa.launchpad.net/graphics-drivers/ppa/ubuntu bionic InRelease\n",
            "Hit:2 http://archive.ubuntu.com/ubuntu bionic InRelease\n",
            "Get:3 http://ppa.launchpad.net/marutter/c2d4u3.5/ubuntu bionic InRelease [15.4 kB]\n",
            "Get:4 http://archive.ubuntu.com/ubuntu bionic-updates InRelease [88.7 kB]\n",
            "Get:5 http://archive.ubuntu.com/ubuntu bionic-backports InRelease [74.6 kB]\n",
            "Get:6 http://security.ubuntu.com/ubuntu bionic-security InRelease [88.7 kB]\n",
            "Get:7 https://cloud.r-project.org/bin/linux/ubuntu bionic-cran35/ InRelease [3,626 B]\n",
            "Ign:8 https://developer.download.nvidia.com/compute/cuda/repos/ubuntu1804/x86_64  InRelease\n",
            "Ign:9 https://developer.download.nvidia.com/compute/machine-learning/repos/ubuntu1804/x86_64  InRelease\n",
            "Hit:10 https://developer.download.nvidia.com/compute/cuda/repos/ubuntu1804/x86_64  Release\n",
            "Hit:11 https://developer.download.nvidia.com/compute/machine-learning/repos/ubuntu1804/x86_64  Release\n",
            "Get:12 http://ppa.launchpad.net/marutter/c2d4u3.5/ubuntu bionic/main Sources [1,816 kB]\n",
            "Get:13 http://ppa.launchpad.net/marutter/c2d4u3.5/ubuntu bionic/main amd64 Packages [876 kB]\n",
            "Get:14 http://archive.ubuntu.com/ubuntu bionic-updates/universe amd64 Packages [1,379 kB]\n",
            "Get:15 http://archive.ubuntu.com/ubuntu bionic-updates/restricted amd64 Packages [68.8 kB]\n",
            "Get:16 http://archive.ubuntu.com/ubuntu bionic-updates/main amd64 Packages [1,214 kB]\n",
            "Get:17 https://cloud.r-project.org/bin/linux/ubuntu bionic-cran35/ Packages [92.1 kB]\n",
            "Get:20 http://security.ubuntu.com/ubuntu bionic-security/main amd64 Packages [912 kB]\n",
            "Get:21 http://security.ubuntu.com/ubuntu bionic-security/universe amd64 Packages [846 kB]\n",
            "Fetched 7,475 kB in 2s (3,175 kB/s)\n",
            "Reading package lists... Done\n",
            "Reading package lists... Done\n",
            "Building dependency tree       \n",
            "Reading state information... Done\n",
            "The following additional packages will be installed:\n",
            "  chromium-browser chromium-browser-l10n chromium-codecs-ffmpeg-extra\n",
            "Suggested packages:\n",
            "  webaccounts-chromium-extension unity-chromium-extension adobe-flashplugin\n",
            "The following NEW packages will be installed:\n",
            "  chromium-browser chromium-browser-l10n chromium-chromedriver\n",
            "  chromium-codecs-ffmpeg-extra\n",
            "0 upgraded, 4 newly installed, 0 to remove and 46 not upgraded.\n",
            "Need to get 77.3 MB of archives.\n",
            "After this operation, 264 MB of additional disk space will be used.\n",
            "Get:1 http://archive.ubuntu.com/ubuntu bionic-updates/universe amd64 chromium-codecs-ffmpeg-extra amd64 81.0.4044.138-0ubuntu0.18.04.1 [1,095 kB]\n",
            "Get:2 http://archive.ubuntu.com/ubuntu bionic-updates/universe amd64 chromium-browser amd64 81.0.4044.138-0ubuntu0.18.04.1 [68.9 MB]\n",
            "Get:3 http://archive.ubuntu.com/ubuntu bionic-updates/universe amd64 chromium-browser-l10n all 81.0.4044.138-0ubuntu0.18.04.1 [3,231 kB]\n",
            "Get:4 http://archive.ubuntu.com/ubuntu bionic-updates/universe amd64 chromium-chromedriver amd64 81.0.4044.138-0ubuntu0.18.04.1 [4,079 kB]\n",
            "Fetched 77.3 MB in 1s (74.1 MB/s)\n",
            "Selecting previously unselected package chromium-codecs-ffmpeg-extra.\n",
            "(Reading database ... 144433 files and directories currently installed.)\n",
            "Preparing to unpack .../chromium-codecs-ffmpeg-extra_81.0.4044.138-0ubuntu0.18.04.1_amd64.deb ...\n",
            "Unpacking chromium-codecs-ffmpeg-extra (81.0.4044.138-0ubuntu0.18.04.1) ...\n",
            "Selecting previously unselected package chromium-browser.\n",
            "Preparing to unpack .../chromium-browser_81.0.4044.138-0ubuntu0.18.04.1_amd64.deb ...\n",
            "Unpacking chromium-browser (81.0.4044.138-0ubuntu0.18.04.1) ...\n",
            "Selecting previously unselected package chromium-browser-l10n.\n",
            "Preparing to unpack .../chromium-browser-l10n_81.0.4044.138-0ubuntu0.18.04.1_all.deb ...\n",
            "Unpacking chromium-browser-l10n (81.0.4044.138-0ubuntu0.18.04.1) ...\n",
            "Selecting previously unselected package chromium-chromedriver.\n",
            "Preparing to unpack .../chromium-chromedriver_81.0.4044.138-0ubuntu0.18.04.1_amd64.deb ...\n",
            "Unpacking chromium-chromedriver (81.0.4044.138-0ubuntu0.18.04.1) ...\n",
            "Setting up chromium-codecs-ffmpeg-extra (81.0.4044.138-0ubuntu0.18.04.1) ...\n",
            "Setting up chromium-browser (81.0.4044.138-0ubuntu0.18.04.1) ...\n",
            "update-alternatives: using /usr/bin/chromium-browser to provide /usr/bin/x-www-browser (x-www-browser) in auto mode\n",
            "update-alternatives: using /usr/bin/chromium-browser to provide /usr/bin/gnome-www-browser (gnome-www-browser) in auto mode\n",
            "Setting up chromium-chromedriver (81.0.4044.138-0ubuntu0.18.04.1) ...\n",
            "Setting up chromium-browser-l10n (81.0.4044.138-0ubuntu0.18.04.1) ...\n",
            "Processing triggers for hicolor-icon-theme (0.17-2) ...\n",
            "Processing triggers for mime-support (3.60ubuntu1) ...\n",
            "Processing triggers for man-db (2.8.3-2ubuntu0.1) ...\n"
          ],
          "name": "stdout"
        }
      ]
    },
    {
      "cell_type": "code",
      "metadata": {
        "id": "wCxYFYGNzB1z",
        "colab_type": "code",
        "colab": {}
      },
      "source": [
        "file = open(\"dictionary.words.txt\", \"r\")\n",
        "dic = list(file.read().split('\\n'))"
      ],
      "execution_count": 0,
      "outputs": []
    },
    {
      "cell_type": "code",
      "metadata": {
        "id": "xbxSx7nxnCR-",
        "colab_type": "code",
        "outputId": "60441ab9-baf8-434f-dbe4-50af4a701417",
        "colab": {
          "base_uri": "https://localhost:8080/",
          "height": 66
        }
      },
      "source": [
        "\n",
        "class ScoredAnagram:\n",
        "  \n",
        "  def __init__(self, dic):\n",
        "    self.dic = dic\n",
        "    self.score_map = dict({'A':1, 'B':1, 'C':2, 'D':1, 'E':1, 'F':2, 'G':1, 'H':2, 'I':1,\n",
        "                  'J':3, 'K':3, 'L':2, 'M':2, 'N':1, 'O':1, 'P':2, 'Q':3, 'R':1, \n",
        "                  'S':1, 'T':1, 'U':1, 'V':2, 'W':2, 'X':3, 'Y':2, 'Z':3})\n",
        "    self.decoded_dic = self.decode_dictionary(self.dic)   # decode dictionary at instantiation\n",
        "    self.scored_dic = self.score_dictionary(self.dic)\n",
        "\n",
        "    \n",
        "#  decodes a given string (normal version)\n",
        "  def decode_string(self, string):\n",
        "    decoded_string = dict.fromkeys(sorted(string), 0)\n",
        "    for c in string:\n",
        "      decoded_string[c] += 1\n",
        "    return decoded_string\n",
        "\n",
        "#  decodes a given string (modified to compensate for \"Qu\" in dic)\n",
        "  def decode_string_dic(self, string):\n",
        "    decoded_string = dict.fromkeys(sorted(string), 0)\n",
        "\n",
        "    for c in string:\n",
        "      decoded_string[c] += 1\n",
        "\n",
        "    if 'Q' in decoded_string:  # Consider 'QU' as 'Q'\n",
        "      decoded_string['U'] -= 1\n",
        "      if decoded_string['U']==0:\n",
        "        del decoded_string['U']\n",
        "    return decoded_string\n",
        "  \n",
        "\n",
        "#  decodes all items in dictionary\n",
        "## create dictionary where {key = original string, value = decoded string}\n",
        "  def decode_dictionary(self, dic):\n",
        "    decoded_dic = {}\n",
        "    for item in self.dic:\n",
        "      item = item.upper()\n",
        "      decoded_dic[item] = self.decode_string_dic(item)\n",
        "    return decoded_dic\n",
        "\n",
        "#  calcuates score of a given string\n",
        "  def calculate_score(self, string):\n",
        "    score = 0\n",
        "    for c in string:\n",
        "      score += self.score_map[c]\n",
        "    return score**2\n",
        "\n",
        "#  score all items in dictionary\n",
        "## create dictionary where {key = original string, value = score of string}\n",
        "  def score_dictionary(self, dic):\n",
        "    scored_dic = {}\n",
        "    for item in self.dic:\n",
        "      item = item.upper()\n",
        "      scored_dic[item] = self.calculate_score(item)\n",
        "    return scored_dic\n",
        "\n",
        "\n",
        "\n",
        "\n",
        "\n",
        "#  looks for the highest scored anagram in the dictionary\n",
        "  def get_anagram(self, random_word):\n",
        "\n",
        "    decoded_random_word = self.decode_string(random_word) # decodes target word\n",
        "\n",
        "    current_max = 0\n",
        "    anagram_candiate = None\n",
        "\n",
        "    \n",
        "    for k in self.decoded_dic:  # (decoded_dic is a nested dict)\n",
        "      for c in self.decoded_dic[k]:\n",
        "        if c not in decoded_random_word: # if the dictionary word contains character not in target, break\n",
        "          break\n",
        "        elif decoded_random_word[c] < self.decoded_dic[k][c]: # if the dictionary word contains extra characters, break\n",
        "          break\n",
        "        elif c == list(self.decoded_dic[k].keys())[-1]: # if end character of the dictinary word\n",
        "          item_score = self.scored_dic[k]\n",
        "          if current_max < item_score:  # if the length of the found anagram is grater than the current_max, replace current_max\n",
        "            current_max = item_score\n",
        "            anagram_candiate = k\n",
        "    \n",
        "    return (anagram_candiate, current_max)\n",
        "\n",
        "\n",
        "\n",
        "\n",
        "\n",
        "if __name__ == '__main__':\n",
        "  import time\n",
        "  from selenium import webdriver\n",
        "  from selenium.webdriver.common.keys import Keys\n",
        "  from selenium.webdriver.support.ui import WebDriverWait\n",
        "  from selenium.webdriver.support import expected_conditions as EC\n",
        "  from selenium.webdriver.common.by import By\n",
        "\n",
        "\n",
        "  chrome_options = webdriver.ChromeOptions()\n",
        "  chrome_options.add_argument('--headless')\n",
        "  chrome_options.add_argument('--no-sandbox')\n",
        "  chrome_options.add_argument('--disable-dev-shm-usage')\n",
        "  wd = webdriver.Chrome('chromedriver',chrome_options=chrome_options)\n",
        "  driver =webdriver.Chrome('chromedriver',chrome_options=chrome_options)\n",
        "\n",
        "  # read dictionary file\n",
        "  file = open(\"dictionary.words.txt\", \"r\")\n",
        "  dic = list(file.read().split('\\n'))\n",
        "\n",
        "  url = 'https://icanhazwordz.appspot.com/'\n",
        "  r = driver.get(url)\n",
        "\n",
        "  partAnaScore = ScoredAnagram(dic)\n",
        "  score_total = 0\n",
        "\n",
        "  # try for 10 rounds\n",
        "  for i in range(10):\n",
        "    WebDriverWait(driver,3).until(EC.presence_of_element_located((By.XPATH, \"//div[@class='letter p1']\")))\n",
        "\n",
        "    # start_time = time.time()\n",
        "    char_available = []\n",
        "\n",
        "    for i in range(1,4):\n",
        "      characters = driver.find_elements_by_xpath(\"//div[@class='letter p\"+str(i)+\"']\")\n",
        "      for c in characters:\n",
        "          char_available.append(c.text)   \n",
        "\n",
        "    char_available = \"\".join(item for innerlist in char_available for item in innerlist)\n",
        "    anagram, score = partAnaScore.get_anagram(char_available)\n",
        "    score_total += score\n",
        "\n",
        "\n",
        "    if not anagram:\n",
        "        print('PASS')\n",
        "        driver.find_element_by_xpath(\"//input[@value='PASS']\").click()\n",
        "    else:\n",
        "        driver.find_element_by_xpath(\"//input[@id='MoveField']\").send_keys(anagram)\n",
        "        driver.find_element_by_xpath(\"//input[@value='Submit']\").click()\n",
        "\n",
        "\n",
        "\n",
        "    \n",
        "    # print(\"Anagram:{}  Score {} \".format(anagram, score), \"     --- %s ms\" % ((time.time() - start_time)*100))\n",
        "    # print(\"Total score: \" ,score_total)\n",
        "\n",
        "\n",
        "  if(score_total>1500):\n",
        "    WebDriverWait(driver,3).until(EC.presence_of_element_located((By.XPATH, '//input[@name=\"NickName\"]')))\n",
        "    driver.find_element_by_xpath(\"//input[@name='NickName']\").send_keys(\"Fumi Takahashi\")\n",
        "    driver.find_element_by_xpath(\"//input[@id='AgentRobot']\").click()\n",
        "    driver.find_element_by_xpath(\"//input[@name='Name']\").send_keys(\"\")\n",
        "    driver.find_element_by_xpath(\"//input[@name='Email']\").send_keys(\"\")\n",
        "    driver.find_element_by_xpath(\"//input[@name='URL']\").send_keys(\"https://gist.github.com/FumiTakahashi/b46d6e6dee157e073b8535bac0321932\")\n",
        "\n",
        "    driver.find_element_by_xpath(\"//input[@type='submit']\").click()\n",
        "  driver.close()\n",
        "  driver.quit()\n",
        "  print(score_total)"
      ],
      "execution_count": 8,
      "outputs": [
        {
          "output_type": "stream",
          "text": [
            "/usr/local/lib/python3.6/dist-packages/ipykernel_launcher.py:103: DeprecationWarning: use options instead of chrome_options\n",
            "/usr/local/lib/python3.6/dist-packages/ipykernel_launcher.py:104: DeprecationWarning: use options instead of chrome_options\n"
          ],
          "name": "stderr"
        },
        {
          "output_type": "stream",
          "text": [
            "1129\n"
          ],
          "name": "stdout"
        }
      ]
    },
    {
      "cell_type": "code",
      "metadata": {
        "id": "QXEbSR4H1Loq",
        "colab_type": "code",
        "outputId": "777bfa4c-57e2-432a-e4c2-67ef571a0864",
        "colab": {
          "base_uri": "https://localhost:8080/",
          "height": 33
        }
      },
      "source": [
        "score_total"
      ],
      "execution_count": 9,
      "outputs": [
        {
          "output_type": "execute_result",
          "data": {
            "text/plain": [
              "1129"
            ]
          },
          "metadata": {
            "tags": []
          },
          "execution_count": 9
        }
      ]
    },
    {
      "cell_type": "code",
      "metadata": {
        "id": "XDLUM1C3_tbV",
        "colab_type": "code",
        "colab": {}
      },
      "source": [
        ""
      ],
      "execution_count": 0,
      "outputs": []
    }
  ]
}